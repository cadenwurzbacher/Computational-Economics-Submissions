{
 "cells": [
  {
   "cell_type": "markdown",
   "metadata": {},
   "source": [
    "# Computational Economics Project Proposal"
   ]
  },
  {
   "cell_type": "markdown",
   "metadata": {},
   "source": [
    "## Project Statement"
   ]
  },
  {
   "cell_type": "markdown",
   "metadata": {},
   "source": [
    "For my computational economics project, I am trying to solve the problem that is the lack of information on cost-of-living data based on location. I am also attempting to provide an explanation for the factors the affect housing prices. To solve this problem, I will be analyzing the factors that impact housing prices relative to per capita income. As of now, I would be performing an analysis of the most populated city in each state, as well as each state as a whole. I will use beautiful soup to scrape the data from city-data.com. This website contains data such as per capita income and median house value for most cities across the country. My goal for this project is to provide individuals with an accurate idea of what portion of their income would go towards housing in certain locations, as well as an explanation of why this is. Ultimately, I think this will help young professionals and recent college grads find an affordable place to live. "
   ]
  },
  {
   "cell_type": "markdown",
   "metadata": {},
   "source": [
    "## Variable Identification"
   ]
  },
  {
   "cell_type": "markdown",
   "metadata": {},
   "source": [
    "An important part of this project is the identification of variables. When it comes to analyzing the prices of houses, there are many different factors that can have an impact. I will focus on variables that will be different in each specific location. For example, I will not include variables that are consistent across the nation including GDP, interest rates, and money supply.\n",
    "\n",
    "The variables that I am currently considering include four different categories: location/environment, demographics, property features, and cost to build. I will attempt to identify important variables in each of these categories for my analysis.\n",
    "\n",
    "Location/Environment: Proximity to City, Proximity to Ocean, Proximity to Business District, School District, Job Availabilty\n",
    "\n",
    "Demographics: Age, Race, Income, Education Level\n",
    "\n",
    "Property Features: Size, Age, Layout, Heating and Cooling, Number of Bedrooms and Bathrooms, Square Footage, Lot Size, Condition\n",
    "\n",
    "Cost to Build"
   ]
  },
  {
   "cell_type": "markdown",
   "metadata": {},
   "source": [
    "## Data Collection"
   ]
  },
  {
   "cell_type": "markdown",
   "metadata": {},
   "source": [
    "For my data collection process, I will attempt to utilize an API for the city-data website. My back up plan is to scrape the website using beautiful soup. I also may implement housing price data from FRED to effectively compare median house prices nationally with housing prices in different locations. Another data source that I may use is zillow.com because it has data on the availabilty of hosuing features in different areas."
   ]
  },
  {
   "cell_type": "markdown",
   "metadata": {},
   "source": [
    "## Quantitative Analysis"
   ]
  },
  {
   "cell_type": "markdown",
   "metadata": {},
   "source": [
    "The quantitative analysis portion of this project will include regressing that data and creating data visualizations. I will ulitmately be comparing median per capita income with median house price. I will do this by performing a regression that accounts for as many variables as possible. "
   ]
  },
  {
   "cell_type": "markdown",
   "metadata": {},
   "source": [
    "## Qualitative Analysis"
   ]
  },
  {
   "cell_type": "code",
   "execution_count": null,
   "metadata": {},
   "outputs": [],
   "source": [
    "The qualitative analysis portion of this project will mainly consist of an explanation of the data. "
   ]
  },
  {
   "cell_type": "markdown",
   "metadata": {},
   "source": [
    "## Project Plan and Schedule"
   ]
  },
  {
   "cell_type": "markdown",
   "metadata": {},
   "source": [
    "###### Weekly Deadlines\n",
    "October 10: Write Introduction \n",
    "\n",
    "October 17: Pull Data from City-Data\n",
    "\n",
    "October 24: Identify Variables and Run Regressions\n",
    "\n",
    "October 31: Create Data Visualizations\n",
    "November 7: VACATION\n",
    "\n",
    "November 14: Perform Qualitative Analysis of Data Visualizations\n",
    "\n",
    "November 21: Write Conclusion and Turn in Rough Draft\n",
    "\n",
    "November 28: Make Final Updates\n",
    "\n",
    "December 5: Finish Presentation"
   ]
  }
 ],
 "metadata": {
  "kernelspec": {
   "display_name": "Python 3",
   "language": "python",
   "name": "python3"
  },
  "language_info": {
   "codemirror_mode": {
    "name": "ipython",
    "version": 3
   },
   "file_extension": ".py",
   "mimetype": "text/x-python",
   "name": "python",
   "nbconvert_exporter": "python",
   "pygments_lexer": "ipython3",
   "version": "3.8.5"
  }
 },
 "nbformat": 4,
 "nbformat_minor": 4
}
