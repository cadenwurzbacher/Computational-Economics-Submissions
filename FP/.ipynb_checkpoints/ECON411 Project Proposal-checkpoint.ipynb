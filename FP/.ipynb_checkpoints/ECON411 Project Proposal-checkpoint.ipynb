{
 "cells": [
  {
   "cell_type": "markdown",
   "metadata": {},
   "source": [
    "# Computational Economics Project Proposal"
   ]
  },
  {
   "cell_type": "markdown",
   "metadata": {},
   "source": [
    "## Project Statement"
   ]
  },
  {
   "cell_type": "markdown",
   "metadata": {},
   "source": [
    "For my computational economics project, I am trying to solve the problem that is the lack of information on cost-of-living data based on location. I am also attempting to provide an explanation for the factors the affect housing prices. To solve this problem, I will be analyzing the factors that impact housing prices relative to per capita income. As of now, I would be performing an analysis of the most populated city in each state, as well as each state as a whole. I will use beautiful soup to scrape the data from city-data.com. This website contains data such as per capita income and median house value for most cities across the country. My goal for this project is to provide individuals with an accurate idea of what portion of their income would go towards housing in certain locations, as well as an explanation of why this is. Ultimately, I think this will help young professionals and recent college grads find an affordable place to live. "
   ]
  },
  {
   "cell_type": "markdown",
   "metadata": {},
   "source": [
    "## Data Collection"
   ]
  },
  {
   "cell_type": "markdown",
   "metadata": {},
   "source": [
    "For my data collection process, I will attempt to utilize an API for the city-data website. My back up plan is to scrape the website using beautiful soup. "
   ]
  },
  {
   "cell_type": "markdown",
   "metadata": {},
   "source": [
    "## Quantitative Analysis"
   ]
  },
  {
   "cell_type": "code",
   "execution_count": null,
   "metadata": {},
   "outputs": [],
   "source": []
  },
  {
   "cell_type": "markdown",
   "metadata": {},
   "source": [
    "## Qualitative Analysis"
   ]
  },
  {
   "cell_type": "code",
   "execution_count": null,
   "metadata": {},
   "outputs": [],
   "source": []
  },
  {
   "cell_type": "markdown",
   "metadata": {},
   "source": [
    "## Project Plan and Schedule"
   ]
  },
  {
   "cell_type": "markdown",
   "metadata": {},
   "source": [
    "###### Weekly Deadlines\n",
    "October 10: Write Introduction\n",
    "October 17: Pull Data from City-Data\n",
    "October 24: Identify Variables and Run Regressions\n",
    "October 31: Create Data Visualizations\n",
    "November 7: VACATION\n",
    "November 14: Perform Qualitative Analysis of Data Visualizations\n",
    "November 21: Write Conclusion and Turn in Rough Draft\n",
    "November 28: Make Final Updates\n",
    "December 5: Finish Presentation"
   ]
  }
 ],
 "metadata": {
  "kernelspec": {
   "display_name": "Python 3",
   "language": "python",
   "name": "python3"
  },
  "language_info": {
   "codemirror_mode": {
    "name": "ipython",
    "version": 3
   },
   "file_extension": ".py",
   "mimetype": "text/x-python",
   "name": "python",
   "nbconvert_exporter": "python",
   "pygments_lexer": "ipython3",
   "version": "3.8.5"
  }
 },
 "nbformat": 4,
 "nbformat_minor": 4
}
