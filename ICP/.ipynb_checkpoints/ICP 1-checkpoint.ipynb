{
 "cells": [
  {
   "cell_type": "code",
   "execution_count": 1,
   "metadata": {},
   "outputs": [
    {
     "name": "stdout",
     "output_type": "stream",
     "text": [
      "Hello world!\n"
     ]
    }
   ],
   "source": [
    "print(\"Hello world!\")"
   ]
  },
  {
   "cell_type": "code",
   "execution_count": 2,
   "metadata": {},
   "outputs": [
    {
     "name": "stdout",
     "output_type": "stream",
     "text": [
      "Hello world!\n"
     ]
    }
   ],
   "source": [
    "print('Hello world!')"
   ]
  },
  {
   "cell_type": "code",
   "execution_count": 6,
   "metadata": {},
   "outputs": [
    {
     "name": "stdout",
     "output_type": "stream",
     "text": [
      "Hello Dr. Caton!\n"
     ]
    }
   ],
   "source": [
    "x = \"Hello Dr. Caton!\"\n",
    "print(x)"
   ]
  },
  {
   "cell_type": "code",
   "execution_count": 7,
   "metadata": {},
   "outputs": [
    {
     "name": "stdout",
     "output_type": "stream",
     "text": [
      "caden wurzbacher\n",
      "CADEN WURZBACHER\n",
      "Caden Wurzbacher\n"
     ]
    }
   ],
   "source": [
    "msg = \"caden wurzbacher\"\n",
    "print(msg)\n",
    "\n",
    "#ALL CAPS\n",
    "msg_upper = msg.upper()\n",
    "print(msg_upper)\n",
    "\n",
    "msg_title = msg.title()\n",
    "print(msg_title)"
   ]
  },
  {
   "cell_type": "code",
   "execution_count": 8,
   "metadata": {},
   "outputs": [
    {
     "name": "stdout",
     "output_type": "stream",
     "text": [
      "caden wurzbacher\n"
     ]
    }
   ],
   "source": [
    "# join 3 different strings and save the results as msg\n",
    "msg = \"caden\" + \" \" + \"wurzbacher\"\n",
    "print(msg)"
   ]
  },
  {
   "cell_type": "code",
   "execution_count": 9,
   "metadata": {},
   "outputs": [
    {
     "name": "stdout",
     "output_type": "stream",
     "text": [
      "I never used to codeThen I took MacroNow I love to codeThings will never be the same\n"
     ]
    }
   ],
   "source": [
    "#concatenateStrings2.py\n",
    "line1 = \"I never used to code\"\n",
    "line2 = \"Then I took Macro\"\n",
    "line3 = \"Now I love to code\"\n",
    "line4 = \"Things will never be the same\"\n",
    "# concatenate the above strings while passing to print()\n",
    "print(line1 + line2 + line3 + line4)"
   ]
  },
  {
   "cell_type": "code",
   "execution_count": 10,
   "metadata": {},
   "outputs": [
    {
     "name": "stdout",
     "output_type": "stream",
     "text": [
      "I never used to code Then I took Macro Now I love to code Things will never be the same\n"
     ]
    }
   ],
   "source": [
    "#concatenateStringsSpaces.py\n",
    "line1 = \"I never used to code\"\n",
    "line2 = \"Then I took Macro\"\n",
    "line3 = \"Now I love to code\"\n",
    "line4 = \"Things will never be the same\"\n",
    "# concatenate the above strings with spaces\n",
    "print(line1 + \" \" + line2 + \" \" + line3 + \" \" + line4)"
   ]
  },
  {
   "cell_type": "code",
   "execution_count": 11,
   "metadata": {},
   "outputs": [
    {
     "name": "stdout",
     "output_type": "stream",
     "text": [
      "I never used to code Then I took Macro Now I love to code Things will never be the same\n"
     ]
    }
   ],
   "source": [
    "#printStringSpaces.py\n",
    "line1 = \"I never used to code\"\n",
    "line2 = \"Then I took Macro\"\n",
    "line3 = \"Now I love to code\"\n",
    "line4 = \"Things will never be the same\"\n",
    "\n",
    "print(line1, line2, line3, line4)"
   ]
  },
  {
   "cell_type": "code",
   "execution_count": 12,
   "metadata": {},
   "outputs": [
    {
     "name": "stdout",
     "output_type": "stream",
     "text": [
      "I never used to codeThen I took MacroNow I love to codeThings will never be the same\n"
     ]
    }
   ],
   "source": [
    "#printStringsCommasNoSpaces.py\n",
    "line1 = \"I never used to code\"\n",
    "line2 = \"Then I took Macro\"\n",
    "line3 = \"Now I love to code\"\n",
    "line4 = \"Things will never be the same\"\n",
    "\n",
    "print(line1, line2, line3, line4, sep = \"\")"
   ]
  },
  {
   "cell_type": "code",
   "execution_count": 16,
   "metadata": {},
   "outputs": [
    {
     "name": "stdout",
     "output_type": "stream",
     "text": [
      "I never used to code\n",
      "Then I took Macro\n",
      "Now I love to code\n",
      "Things will never be the same\n"
     ]
    }
   ],
   "source": [
    "line1 = \"I never used to code\"\n",
    "line2 = \"Then I took Macro\"\n",
    "line3 = \"Now I love to code\"\n",
    "line4 = \"Things will never be the same\"\n",
    "\n",
    "print(line1 + \"\\n\" + line2 + \"\\n\" + line3 + \"\\n\" + line4)"
   ]
  },
  {
   "cell_type": "code",
   "execution_count": 17,
   "metadata": {},
   "outputs": [
    {
     "name": "stdout",
     "output_type": "stream",
     "text": [
      "I never used to code\n",
      "Then I took Macro\n",
      "Now I love to code\n",
      "Things will never be the same\n"
     ]
    }
   ],
   "source": [
    "line1 = \"I never used to code\"\n",
    "line2 = \"Then I took Macro\"\n",
    "line3 = \"Now I love to code\"\n",
    "line4 = \"Things will never be the same\"\n",
    "\n",
    "print(line1, line2, line3, line4, sep = \"\\n\")"
   ]
  },
  {
   "cell_type": "code",
   "execution_count": 18,
   "metadata": {},
   "outputs": [
    {
     "name": "stdout",
     "output_type": "stream",
     "text": [
      "We may use 'single quotes' within double quotes\n",
      "We may use \"double quotes\" within single quotes\n"
     ]
    }
   ],
   "source": [
    "single_in_double = \"We may use 'single quotes' within double quotes\"\n",
    "double_in_single = 'We may use \"double quotes\" within single quotes'\n",
    "print(single_in_double)\n",
    "print(double_in_single)"
   ]
  },
  {
   "cell_type": "code",
   "execution_count": 19,
   "metadata": {},
   "outputs": [
    {
     "name": "stdout",
     "output_type": "stream",
     "text": [
      "We may use 'single quotes' in single quotes.\n",
      "Or we may use \"double quotes\" in double quotes.\n",
      "We may use two backslashes to print a single backslash: \\\n",
      "Every\n",
      "word\n",
      "is\n",
      "a\n",
      "new\n",
      "line\n",
      "We may start a new line \n",
      "\tand use tab for a hanging indent\n"
     ]
    }
   ],
   "source": [
    "single_quotes = 'We may use \\'single quotes\\' in single quotes.'\n",
    "double_quotes = \"Or we may use \\\"double quotes\\\" in double quotes.\"\n",
    "read_backslash = \"We may use two backslashes to print a single backslash: \\\\\"\n",
    "lines = \"Every\\nword\\nis\\na\\nnew\\nline\"\n",
    "new_line_and_tab = \"We may start a new line \\n\\tand use tab for a hanging indent\"\n",
    "\n",
    "print(single_quotes)\n",
    "print(double_quotes)\n",
    "print(read_backslash)\n",
    "print(lines)\n",
    "print(new_line_and_tab)"
   ]
  },
  {
   "cell_type": "code",
   "execution_count": 20,
   "metadata": {},
   "outputs": [
    {
     "name": "stdout",
     "output_type": "stream",
     "text": [
      "no spaces removed:\n",
      "     Look at all the spaces in the text!    \n",
      "Remove left spaces:\n",
      "Look at all the spaces in the text!    \n",
      "Remove right spaces:\n",
      "    Look at all the spaces in the text!\n",
      "Remove left and right spaces:\n",
      "Look at all the spaces in the text!\n"
     ]
    }
   ],
   "source": [
    "spaces = \"    Look at all the spaces in the text!    \"\n",
    "print(\"no spaces removed:\\n\", spaces)\n",
    "\n",
    "remove_left_spaces = spaces.lstrip()\n",
    "remove_right_spaces = spaces.rstrip()\n",
    "remove_left_and_right_spaces = spaces.strip()\n",
    "\n",
    "print(\"Remove left spaces:\\n\" + remove_left_spaces)\n",
    "print(\"Remove right spaces:\\n\" + remove_right_spaces)\n",
    "print(\"Remove left and right spaces:\\n\" + remove_left_and_right_spaces)"
   ]
  },
  {
   "cell_type": "code",
   "execution_count": 21,
   "metadata": {},
   "outputs": [
    {
     "name": "stdout",
     "output_type": "stream",
     "text": [
      "no spaces removed:\n",
      "     Look at all the spaces in the text!    \n",
      "Remove all spaces:\n",
      "Lookatallthespacesinthetext!\n"
     ]
    }
   ],
   "source": [
    "#replace.py\n",
    "spaces = \"    Look at all the spaces in the text!    \"\n",
    "print(\"no spaces removed:\\n\", spaces)\n",
    "\n",
    "remove_all_spaces = spaces.replace(\" \", \"\")\n",
    "print(\"Remove all spaces:\\n\" + remove_all_spaces)"
   ]
  },
  {
   "cell_type": "code",
   "execution_count": 22,
   "metadata": {},
   "outputs": [
    {
     "name": "stdout",
     "output_type": "stream",
     "text": [
      "Everything in this object will be recorded exactly as entered,\n",
      "if we enter a new line or \n",
      "    a new line with a tab.\n"
     ]
    }
   ],
   "source": [
    "#stringTripleQuotes.py\n",
    "x = \"\"\"\\\n",
    "Everything in this object will be recorded exactly as entered,\n",
    "if we enter a new line or \n",
    "    a new line with a tab.\"\"\"\n",
    "    \n",
    "print(x)"
   ]
  },
  {
   "cell_type": "code",
   "execution_count": 24,
   "metadata": {},
   "outputs": [
    {
     "name": "stdout",
     "output_type": "stream",
     "text": [
      "num1: 14 \n",
      "num1s: 86\n"
     ]
    }
   ],
   "source": [
    "#integersVsStrings.py\n",
    "\n",
    "num1 = 8 + 6\n",
    "num1s = \"8\" + \"6\"\n",
    "\n",
    "print(\"num1:\", num1,\"\\nnum1s:\", num1s)"
   ]
  },
  {
   "cell_type": "code",
   "execution_count": 27,
   "metadata": {},
   "outputs": [
    {
     "name": "stdout",
     "output_type": "stream",
     "text": [
      "num1: 2.6666666666666665 \n",
      "num2: 2.0 \n",
      "num3: 2.3333333333333335\n"
     ]
    }
   ],
   "source": [
    "#floats.py\n",
    "num1 = 8 / 3\n",
    "num2 = 8 / 4\n",
    "num3 = 7 / 3\n",
    "\n",
    "print(\"num1:\", num1, \"\\nnum2:\", num2, \"\\nnum3:\", num3)"
   ]
  },
  {
   "cell_type": "code",
   "execution_count": 28,
   "metadata": {},
   "outputs": [
    {
     "ename": "TypeError",
     "evalue": "can only concatenate str (not \"float\") to str",
     "output_type": "error",
     "traceback": [
      "\u001b[1;31m---------------------------------------------------------------------------\u001b[0m",
      "\u001b[1;31mTypeError\u001b[0m                                 Traceback (most recent call last)",
      "\u001b[1;32m<ipython-input-28-d1551919e92b>\u001b[0m in \u001b[0;36m<module>\u001b[1;34m\u001b[0m\n\u001b[0;32m      5\u001b[0m \u001b[0msum_nums\u001b[0m \u001b[1;33m=\u001b[0m \u001b[0mnum1\u001b[0m \u001b[1;33m+\u001b[0m \u001b[0mnum2\u001b[0m \u001b[1;33m+\u001b[0m \u001b[0mnum3\u001b[0m\u001b[1;33m\u001b[0m\u001b[1;33m\u001b[0m\u001b[0m\n\u001b[0;32m      6\u001b[0m \u001b[1;33m\u001b[0m\u001b[0m\n\u001b[1;32m----> 7\u001b[1;33m \u001b[0mprint\u001b[0m\u001b[1;33m(\u001b[0m\u001b[1;34m\"num1 + num2 + num3: \"\u001b[0m \u001b[1;33m+\u001b[0m \u001b[0msum_nums\u001b[0m\u001b[1;33m)\u001b[0m\u001b[1;33m\u001b[0m\u001b[1;33m\u001b[0m\u001b[0m\n\u001b[0m",
      "\u001b[1;31mTypeError\u001b[0m: can only concatenate str (not \"float\") to str"
     ]
    }
   ],
   "source": [
    "#printError.py\n",
    "num1 = 8 / 3\n",
    "num2 = 8 / 4\n",
    "num3 = 7 / 3\n",
    "sum_nums = num1 + num2 + num3\n",
    "\n",
    "print(\"num1 + num2 + num3: \" + sum_nums)"
   ]
  },
  {
   "cell_type": "code",
   "execution_count": 29,
   "metadata": {},
   "outputs": [
    {
     "name": "stdout",
     "output_type": "stream",
     "text": [
      "num1 + num2 + num3: 7.0\n"
     ]
    }
   ],
   "source": [
    "#castString.py\n",
    "num1 = 8 / 3\n",
    "num2 = 8 / 4\n",
    "num3 = 7 / 3\n",
    "sum_nums = num1 + num2 + num3\n",
    "\n",
    "print(\"num1 + num2 + num3: \" + str(sum_nums))"
   ]
  },
  {
   "cell_type": "code",
   "execution_count": 30,
   "metadata": {},
   "outputs": [
    {
     "name": "stdout",
     "output_type": "stream",
     "text": [
      "sys.float_info(max=1.7976931348623157e+308, max_exp=1024, max_10_exp=308, min=2.2250738585072014e-308, min_exp=-1021, min_10_exp=-307, dig=15, mant_dig=53, epsilon=2.220446049250313e-16, radix=2, rounds=1)\n"
     ]
    }
   ],
   "source": [
    "#checkFloat.py\n",
    "import sys\n",
    "print(sys.float_info)"
   ]
  },
  {
   "cell_type": "code",
   "execution_count": 31,
   "metadata": {},
   "outputs": [
    {
     "name": "stdout",
     "output_type": "stream",
     "text": [
      "8.98846567431158e+307\n"
     ]
    }
   ],
   "source": [
    "x = 2.0 ** 1023\n",
    "print(x)"
   ]
  },
  {
   "cell_type": "code",
   "execution_count": 32,
   "metadata": {},
   "outputs": [
    {
     "ename": "OverflowError",
     "evalue": "(34, 'Result too large')",
     "output_type": "error",
     "traceback": [
      "\u001b[1;31m---------------------------------------------------------------------------\u001b[0m",
      "\u001b[1;31mOverflowError\u001b[0m                             Traceback (most recent call last)",
      "\u001b[1;32m<ipython-input-32-5d75a30e5989>\u001b[0m in \u001b[0;36m<module>\u001b[1;34m\u001b[0m\n\u001b[1;32m----> 1\u001b[1;33m \u001b[1;36m2.0\u001b[0m \u001b[1;33m**\u001b[0m \u001b[1;36m1024\u001b[0m\u001b[1;33m\u001b[0m\u001b[1;33m\u001b[0m\u001b[0m\n\u001b[0m",
      "\u001b[1;31mOverflowError\u001b[0m: (34, 'Result too large')"
     ]
    }
   ],
   "source": [
    "2.0 ** 1024"
   ]
  },
  {
   "cell_type": "code",
   "execution_count": 33,
   "metadata": {},
   "outputs": [
    {
     "name": "stdout",
     "output_type": "stream",
     "text": [
      "x is of <class 'float'> and is equal to 8.98846567431158e+307\n",
      "y is of <class 'int'> and is equal to 359538626972463181545861038157804946723595395788461314546860162315465351611001926265416954644815072042240227759742786715317579537628833244985694861278948248755535786849730970552604439202492188238906165904170011537676301364684925762947826221081654474326701021369172596479894491876959432609670712659248448274432\n"
     ]
    }
   ],
   "source": [
    "x = 2.0 ** 1023\n",
    "print(\"x is of\", type(x), \"and is equal to\", x)\n",
    "y = 2 ** 1025\n",
    "print(\"y is of\", type(y), \"and is equal to\", y)"
   ]
  }
 ],
 "metadata": {
  "kernelspec": {
   "display_name": "Python 3",
   "language": "python",
   "name": "python3"
  },
  "language_info": {
   "codemirror_mode": {
    "name": "ipython",
    "version": 3
   },
   "file_extension": ".py",
   "mimetype": "text/x-python",
   "name": "python",
   "nbconvert_exporter": "python",
   "pygments_lexer": "ipython3",
   "version": "3.8.5"
  }
 },
 "nbformat": 4,
 "nbformat_minor": 4
}
