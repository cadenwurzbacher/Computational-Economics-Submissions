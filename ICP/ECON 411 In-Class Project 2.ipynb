{
 "cells": [
  {
   "cell_type": "code",
   "execution_count": 11,
   "metadata": {},
   "outputs": [
    {
     "name": "stdout",
     "output_type": "stream",
     "text": [
      "[]\n",
      "[10, 20, 30, 40, 50]\n",
      "[10.0, 20.0, 30.0, 40.0, 50.0]\n",
      "['Words', 'Meaning']\n",
      "[5, 5.0, '5']\n"
     ]
    }
   ],
   "source": [
    "# Lists can hold any kind of object\n",
    "\n",
    "empty_list = []\n",
    "int_list = [10,20,30,40,50]\n",
    "float_list = [10.0,20.0,30.0,40.0,50.0]\n",
    "string_list = [\"Words\", \"Meaning\"]\n",
    "mixed_list = [5,5.0,\"5\"]\n",
    "\n",
    "print(empty_list)  \n",
    "print(int_list)  \n",
    "print(float_list)  \n",
    "print(string_list)  \n",
    "print(mixed_list)"
   ]
  },
  {
   "cell_type": "code",
   "execution_count": 12,
   "metadata": {},
   "outputs": [
    {
     "data": {
      "text/plain": [
       "5"
      ]
     },
     "execution_count": 12,
     "metadata": {},
     "output_type": "execute_result"
    }
   ],
   "source": [
    "mixed_list[0]"
   ]
  },
  {
   "cell_type": "code",
   "execution_count": 13,
   "metadata": {},
   "outputs": [
    {
     "data": {
      "text/plain": [
       "int"
      ]
     },
     "execution_count": 13,
     "metadata": {},
     "output_type": "execute_result"
    }
   ],
   "source": [
    "type(mixed_list[0])"
   ]
  },
  {
   "cell_type": "code",
   "execution_count": 1,
   "metadata": {},
   "outputs": [
    {
     "name": "stdout",
     "output_type": "stream",
     "text": [
      "list1: [4, 6, 7, 8, 15, 27]\n",
      "list2: [11, 2, 5, 3, 1, 8]\n",
      "[4, 6, 7, 8, 15, 27, 11, 2, 5, 3, 1, 8]\n"
     ]
    }
   ],
   "source": [
    "list1 = [4,6,7,8,15,27]\n",
    "list2 = [11,2,5,3,1,8]\n",
    "join_lists = list1 + list2\n",
    "\n",
    "print(\"list1:\", list1)\n",
    "print(\"list2:\", list2)\n",
    "print(join_lists)"
   ]
  },
  {
   "cell_type": "code",
   "execution_count": 3,
   "metadata": {},
   "outputs": [
    {
     "ename": "SyntaxError",
     "evalue": "invalid syntax (<ipython-input-3-5e2042d00b97>, line 2)",
     "output_type": "error",
     "traceback": [
      "\u001b[1;36m  File \u001b[1;32m\"<ipython-input-3-5e2042d00b97>\"\u001b[1;36m, line \u001b[1;32m2\u001b[0m\n\u001b[1;33m    <execute script>\u001b[0m\n\u001b[1;37m    ^\u001b[0m\n\u001b[1;31mSyntaxError\u001b[0m\u001b[1;31m:\u001b[0m invalid syntax\n"
     ]
    }
   ],
   "source": [
    "for i in range(a, b, c):\n",
    "    <execute script>"
   ]
  },
  {
   "cell_type": "code",
   "execution_count": 5,
   "metadata": {},
   "outputs": [
    {
     "name": "stdout",
     "output_type": "stream",
     "text": [
      "[0, 1, 2, 3, 4, 5, 6]\n",
      "[-7, -6, -5, -4, -3, -2, -1, 0, 1, 2, 3, 4, 5, 6]\n",
      "[-7, -4, -1, 2, 5]\n"
     ]
    }
   ],
   "source": [
    "#range.py\n",
    "list1 = list(range(7))\n",
    "list2 = list(range(-7,7))\n",
    "list3 = list(range(-7,7,3))\n",
    "\n",
    "print(list1)\n",
    "print(list2)\n",
    "print(list3)"
   ]
  },
  {
   "cell_type": "code",
   "execution_count": 6,
   "metadata": {},
   "outputs": [
    {
     "name": "stdout",
     "output_type": "stream",
     "text": [
      "0\n",
      "1\n",
      "2\n",
      "3\n",
      "4\n",
      "5\n",
      "6\n",
      "7\n",
      "8\n",
      "9\n",
      "10\n",
      "11\n",
      "12\n",
      "13\n",
      "14\n"
     ]
    }
   ],
   "source": [
    "for i in range(15):\n",
    "    print(i)"
   ]
  },
  {
   "cell_type": "code",
   "execution_count": 8,
   "metadata": {},
   "outputs": [
    {
     "ename": "SyntaxError",
     "evalue": "invalid syntax (<ipython-input-8-2233a9ac6f2b>, line 2)",
     "output_type": "error",
     "traceback": [
      "\u001b[1;36m  File \u001b[1;32m\"<ipython-input-8-2233a9ac6f2b>\"\u001b[1;36m, line \u001b[1;32m2\u001b[0m\n\u001b[1;33m    <execute script>\u001b[0m\n\u001b[1;37m    ^\u001b[0m\n\u001b[1;31mSyntaxError\u001b[0m\u001b[1;31m:\u001b[0m invalid syntax\n"
     ]
    }
   ],
   "source": [
    "for i in range(len(A)):\n",
    "    <execute script>"
   ]
  },
  {
   "cell_type": "code",
   "execution_count": 10,
   "metadata": {},
   "outputs": [
    {
     "name": "stdout",
     "output_type": "stream",
     "text": [
      "list1 elements: 7 8 12 9 4\n",
      "list2 elements: 1 5 6 7 8\n",
      "list3 elements: [7, 8, 12, 9, 4, 7, 1, 5, 6, 7, 8, 2]\n"
     ]
    }
   ],
   "source": [
    "#copyListElementsForLoop.py\n",
    "list1 = [7, 8, 12, 9, 4, 7]\n",
    "list2 = [1, 5, 6, 7, 8, 2]\n",
    "\n",
    "print(\"list1 elements:\", list1[0], list1[1], list1[2], list1[3], list1[4])\n",
    "print(\"list2 elements:\", list2[0], list2[1], list2[2], list2[3], list2[4])\n",
    "\n",
    "list3 = []\n",
    "j = len(list1)\n",
    "for i in range(j):\n",
    "    list3.append(list1[i])\n",
    "\n",
    "k = len(list2)\n",
    "for i in range(k):\n",
    "    list3.append(list2[i])\n",
    "\n",
    "print(\"list3 elements:\", list3)"
   ]
  },
  {
   "cell_type": "code",
   "execution_count": 22,
   "metadata": {},
   "outputs": [
    {
     "name": "stdout",
     "output_type": "stream",
     "text": [
      "list1 elements: 7 8 12 9 4\n",
      "list2 elements: 1 5 6 7 8\n",
      "list3: [8, 13, 18, 16, 12, 9]\n"
     ]
    }
   ],
   "source": [
    "#addListElements.py\n",
    "list1 = [7, 8, 12, 9, 4, 7]\n",
    "list2 = [1, 5, 6, 7, 8, 2]\n",
    "\n",
    "print(\"list1 elements:\", list1[0], list1[1], list1[2], list1[3], list1[4])\n",
    "print(\"list2 elements:\", list2[0], list2[1], list2[2], list2[3], list2[4])\n",
    "\n",
    "list3 = []\n",
    "j = len(list1)\n",
    "for i in range(j):\n",
    "    list3.append(list1[i] + list2[i])\n",
    "    \n",
    "print(\"list3:\", list3)"
   ]
  },
  {
   "cell_type": "code",
   "execution_count": 13,
   "metadata": {},
   "outputs": [
    {
     "name": "stdout",
     "output_type": "stream",
     "text": [
      "execute script\n"
     ]
    }
   ],
   "source": [
    "if True:\n",
    "    print(\"execute script\")"
   ]
  },
  {
   "cell_type": "code",
   "execution_count": 14,
   "metadata": {},
   "outputs": [
    {
     "name": "stdout",
     "output_type": "stream",
     "text": [
      "execute script\n"
     ]
    }
   ],
   "source": [
    "if True:\n",
    "    print(\"execute script\")\n",
    "else:\n",
    "    pass"
   ]
  },
  {
   "cell_type": "code",
   "execution_count": 15,
   "metadata": {},
   "outputs": [],
   "source": [
    "if False:\n",
    "    print(\"execute script\")\n",
    "else:\n",
    "    pass"
   ]
  },
  {
   "cell_type": "code",
   "execution_count": 16,
   "metadata": {},
   "outputs": [
    {
     "name": "stdout",
     "output_type": "stream",
     "text": [
      "lists before deletion: \n",
      "orange \t door\n",
      "apple \t key\n",
      "papaya \t window\n",
      "blueberry \t couch\n",
      "dragonfruit \t lamp\n",
      "banana \t table\n",
      "\n",
      "lists after deletion: \n",
      "apple \t door\n",
      "papaya \t key\n",
      "blueberry \t window\n",
      "dragonfruit \t couch\n",
      "banana \t lamp\n"
     ]
    }
   ],
   "source": [
    "list1 = [\"orange\", \"apple\", \"papaya\", \"blueberry\", \"dragonfruit\", \"banana\"]\n",
    "list2 = [\"door\", \"key\", \"window\", \"couch\", \"lamp\", \"table\"]\n",
    "print(\"lists before deletion: \")\n",
    "for i in range(len(list1)):\n",
    "    print(list1[i],\"\\t\", list2[i])\n",
    "    \n",
    "del list1[0]\n",
    "del list2[5]\n",
    "\n",
    "print()\n",
    "print(\"lists after deletion: \")\n",
    "for i in range(len(list1)):\n",
    "    print(list1[i], \"\\t\",list2[i])"
   ]
  },
  {
   "cell_type": "code",
   "execution_count": 17,
   "metadata": {},
   "outputs": [
    {
     "name": "stdout",
     "output_type": "stream",
     "text": [
      "lists before deletion: \n",
      "orange \t door\n",
      "apple \t key\n",
      "papaya \t window\n",
      "blueberry \t couch\n",
      "dragonfruit \t lamp\n",
      "banana \t table\n",
      "\n",
      "lists after deletion: \n",
      "orange \t door\n",
      "papaya \t key\n",
      "blueberry \t couch\n",
      "dragonfruit \t lamp\n",
      "banana \t table\n"
     ]
    }
   ],
   "source": [
    "list1 = [\"orange\", \"apple\", \"papaya\", \"blueberry\", \"dragonfruit\", \"banana\"]\n",
    "list2 = [\"door\", \"key\", \"window\", \"couch\", \"lamp\", \"table\"]\n",
    "print(\"lists before deletion: \")\n",
    "for i in range(len(list1)):\n",
    "    print(list1[i],\"\\t\", list2[i])\n",
    "    \n",
    "list1.remove(\"apple\")\n",
    "list2.remove(\"window\")\n",
    "\n",
    "print()\n",
    "print(\"lists after deletion: \")\n",
    "for i in range(len(list1)):\n",
    "    print(list1[i], \"\\t\",list2[i]) "
   ]
  },
  {
   "cell_type": "code",
   "execution_count": 20,
   "metadata": {},
   "outputs": [
    {
     "name": "stdout",
     "output_type": "stream",
     "text": [
      "lists before deletion: \n",
      "orange \t door\n",
      "apple \t key\n",
      "papaya \t window\n",
      "blueberry \t couch\n",
      "dragonfruit \t lamp\n",
      "banana \t table\n",
      "\n",
      "lists after deletion: \n",
      "orange \t door\n",
      "papaya \t key\n",
      "blueberry \t couch\n",
      "dragonfruit \t lamp\n",
      "banana \t table\n",
      "\n",
      "Res1 \tRes2\n",
      "apple \twindow\n"
     ]
    }
   ],
   "source": [
    "#removeAndSaveListElementsPop.py\n",
    "\n",
    "#define list1 and list2\n",
    "#removeAndSaveListElementsPop.py\n",
    "\n",
    "#define list1 and list2\n",
    "list1 = [\"orange\", \"apple\", \"papaya\", \"blueberry\", \"dragonfruit\", \"banana\"]\n",
    "list2 = [\"door\", \"key\", \"window\", \"couch\", \"lamp\", \"table\"]\n",
    "\n",
    "#identify what is printed in for loop\n",
    "print(\"lists before deletion: \")\n",
    "if len(list1) == len(list2):\n",
    "    # use for loop to print lists in parallel\n",
    "    for i in range(len(list1)):\n",
    "        print(list1[i],\"\\t\", list2[i])\n",
    "    \n",
    "# remove list elements and save them as variables '_res\"\n",
    "list1_res = \"apple\"\n",
    "list2_res = \"window\"\n",
    "list1.remove(list1_res)\n",
    "list2.remove(list2_res)\n",
    "\n",
    "print()\n",
    "# print lists again as in lines 8-11\n",
    "print(\"lists after deletion: \")\n",
    "if len(list1) == len(list2):\n",
    "    for i in range(len(list1)):\n",
    "        print(list1[i], \"\\t\",list2[i])\n",
    "     \n",
    "print()\n",
    "print(\"Res1\", \"\\tRes2\")\n",
    "print(list1_res, \"\\t\" + (list2_res))"
   ]
  },
  {
   "cell_type": "code",
   "execution_count": 21,
   "metadata": {},
   "outputs": [
    {
     "name": "stdout",
     "output_type": "stream",
     "text": [
      "lists before deletion: \n",
      "orange \t door\n",
      "apple \t key\n",
      "papaya \t window\n",
      "blueberry \t couch\n",
      "dragonfruit \t lamp\n",
      "banana \t table\n",
      "\n",
      "lists after deletion: \n",
      "apple \t door\n",
      "papaya \t key\n",
      "blueberry \t window\n",
      "dragonfruit \t couch\n",
      "banana \t lamp\n",
      "\n",
      "Res1 \tRes2\n",
      "orange \ttable\n"
     ]
    }
   ],
   "source": [
    "list1 = [\"orange\", \"apple\", \"papaya\", \"blueberry\", \"dragonfruit\", \"banana\"]\n",
    "list2 = [\"door\", \"key\", \"window\", \"couch\", \"lamp\", \"table\"]\n",
    "\n",
    "#identify what is printed in for loop\n",
    "print(\"lists before deletion: \")\n",
    "# use for loop to print lists in parallel\n",
    "for i in range(len(list1)):\n",
    "    print(list1[i],\"\\t\", list2[i])\n",
    "    \n",
    "# remove list elements and save them as variables '_res\"\n",
    "list1_res = list1.pop(0)\n",
    "list2_res = list2.pop(5)\n",
    "\n",
    "print()\n",
    "# print lists again as in lines 8-11\n",
    "print(\"lists after deletion: \")\n",
    "for i in range(len(list1)):\n",
    "    print(list1[i], \"\\t\",list2[i])\n",
    "     \n",
    "print()\n",
    "print(\"Res1\", \"\\tRes2\")\n",
    "print(list1_res, \"\\t\" + (list2_res))"
   ]
  },
  {
   "cell_type": "code",
   "execution_count": 23,
   "metadata": {},
   "outputs": [
    {
     "name": "stdout",
     "output_type": "stream",
     "text": [
      "list1 elements: 7 8 12 9 4\n",
      "list2 elements: 1 5 6 7 8\n",
      "list3: [8, 18, 12]\n"
     ]
    }
   ],
   "source": [
    "#addListElements5.py\n",
    "list1 = [7, 8, 12, 9, 4, 7]\n",
    "list2 = [1, 5, 6, 7, 8, 2]\n",
    "print(\"list1 elements:\", list1[0], list1[1], list1[2], list1[3], list1[4])\n",
    "print(\"list2 elements:\", list2[0], list2[1], list2[2], list2[3], list2[4])\n",
    "\n",
    "list3 = []\n",
    "j = len(list1)\n",
    "if j == len(list2):\n",
    "    for i in range(0, j, 2):\n",
    "        list3.append(list1[i] + list2[i])\n",
    "else:\n",
    "    print(\"Lists are not the same length, cannot perform element-wise operations.\")\n",
    "print(\"list3:\", list3)"
   ]
  },
  {
   "cell_type": "code",
   "execution_count": 26,
   "metadata": {},
   "outputs": [
    {
     "name": "stdout",
     "output_type": "stream",
     "text": [
      "I\n",
      "went\n",
      "to\n",
      "class\n",
      "today\n"
     ]
    }
   ],
   "source": [
    "obj = [\"I\", \"went\", \"to\", \"class\", \"today\"]\n",
    "for x in obj:\n",
    "    print(x)"
   ]
  },
  {
   "cell_type": "code",
   "execution_count": 27,
   "metadata": {},
   "outputs": [
    {
     "name": "stdout",
     "output_type": "stream",
     "text": [
      "list1\t list2\n",
      "orange \t orange\n",
      "apple \t apple\n",
      "papaya \t papaya\n",
      "blueberry \t blueberry\n",
      "dragonfruit \t dragonfruit\n",
      "banana \t banana\n"
     ]
    }
   ],
   "source": [
    "#forLoopWithoutIndexer.py\n",
    "list1 = [\"orange\", \"apple\", \"papaya\", \"blueberry\", \"dragonfruit\", \"banana\"]\n",
    "list2 = []\n",
    "for x in list1:\n",
    "    list2.append(x)\n",
    "\n",
    "print(\"list1\\t\", \"list2\")\n",
    "k = len(list1)\n",
    "j = len(list2)\n",
    "\n",
    "if len(list1) == len(list2):\n",
    "    for i in range(0, len(list1)):\n",
    "        print(list1[i], \"\\t\", list2[i])"
   ]
  },
  {
   "cell_type": "code",
   "execution_count": 15,
   "metadata": {},
   "outputs": [
    {
     "data": {
      "text/plain": [
       "[5, 5.0, '5', 'Words', 'Meaning']"
      ]
     },
     "execution_count": 15,
     "metadata": {},
     "output_type": "execute_result"
    }
   ],
   "source": [
    "#Concatenate\n",
    "\n",
    "join_lists2 = mixed_list + string_list\n",
    "join_lists2"
   ]
  },
  {
   "cell_type": "code",
   "execution_count": 16,
   "metadata": {},
   "outputs": [
    {
     "data": {
      "text/plain": [
       "8"
      ]
     },
     "execution_count": 16,
     "metadata": {},
     "output_type": "execute_result"
    }
   ],
   "source": [
    "join_lists[-1]"
   ]
  },
  {
   "cell_type": "code",
   "execution_count": 17,
   "metadata": {},
   "outputs": [
    {
     "name": "stdout",
     "output_type": "stream",
     "text": [
      "list1: [7, 6, 3, 4, 5]\n",
      "list2: [3, 8, 6, 7, 2]\n",
      "[7, 6, 3, 4, 5]\n",
      "[7, 6, 3, 4, 5, 3, 8, 6, 7, 2] [7, 6, 3, 4, 5, 3, 8, 6, 7, 2]\n"
     ]
    }
   ],
   "source": [
    "#For Loops\n",
    "\n",
    "list1 = [7,6,3,4,5]\n",
    "list2 = [3,8,6,7,2]\n",
    "\n",
    "print(\"list1:\", list1)\n",
    "print(\"list2:\", list2)\n",
    "\n",
    "#creat a blank list that we will use to gen results\n",
    "\n",
    "concat_list = []\n",
    "sum_list = []\n",
    "\n",
    "for i in range(0,len(list1)):\n",
    "    concat_list.append(list1[i])\n",
    "\n",
    "print(concat_list)\n",
    "\n",
    "for i in range(0,len(list1)):\n",
    "    concat_list.append(list2[i])\n",
    "    \n",
    "print(concat_list, list1 + list2)"
   ]
  },
  {
   "cell_type": "code",
   "execution_count": 18,
   "metadata": {},
   "outputs": [
    {
     "data": {
      "text/plain": [
       "True"
      ]
     },
     "execution_count": 18,
     "metadata": {},
     "output_type": "execute_result"
    }
   ],
   "source": [
    "1 == 1"
   ]
  },
  {
   "cell_type": "code",
   "execution_count": 19,
   "metadata": {},
   "outputs": [
    {
     "data": {
      "text/plain": [
       "[3, 4, 5, 6, 7]"
      ]
     },
     "execution_count": 19,
     "metadata": {},
     "output_type": "execute_result"
    }
   ],
   "source": [
    "sorted(list1)"
   ]
  },
  {
   "cell_type": "code",
   "execution_count": 20,
   "metadata": {},
   "outputs": [
    {
     "data": {
      "text/plain": [
       "[7, 6, 5, 4, 3]"
      ]
     },
     "execution_count": 20,
     "metadata": {},
     "output_type": "execute_result"
    }
   ],
   "source": [
    "sorted(list1, reverse=True)"
   ]
  },
  {
   "cell_type": "code",
   "execution_count": 21,
   "metadata": {},
   "outputs": [
    {
     "name": "stdout",
     "output_type": "stream",
     "text": [
      "TypeError: unorderable types: str < int\n",
      "<generator object <genexpr> at 0x000001BF6A31D5F0>\n",
      "[1, 22, 3, 23, 5]\n"
     ]
    },
    {
     "data": {
      "text/plain": [
       "([' ',\n",
       "  ' ',\n",
       "  ' ',\n",
       "  ' ',\n",
       "  '0',\n",
       "  '0',\n",
       "  '0',\n",
       "  '0',\n",
       "  '0',\n",
       "  '0',\n",
       "  '0',\n",
       "  '1',\n",
       "  '1',\n",
       "  '3',\n",
       "  '5',\n",
       "  '6',\n",
       "  '<',\n",
       "  '<',\n",
       "  '>',\n",
       "  '>',\n",
       "  'A',\n",
       "  'B',\n",
       "  'D',\n",
       "  'F',\n",
       "  'F',\n",
       "  'a',\n",
       "  'a',\n",
       "  'b',\n",
       "  'c',\n",
       "  'e',\n",
       "  'e',\n",
       "  'e',\n",
       "  'e',\n",
       "  'e',\n",
       "  'g',\n",
       "  'g',\n",
       "  'j',\n",
       "  'n',\n",
       "  'n',\n",
       "  'o',\n",
       "  'o',\n",
       "  'p',\n",
       "  'r',\n",
       "  'r',\n",
       "  'r',\n",
       "  't',\n",
       "  't',\n",
       "  't',\n",
       "  'x',\n",
       "  'x'],\n",
       " [1, 3, 5, 22, 23])"
      ]
     },
     "execution_count": 21,
     "metadata": {},
     "output_type": "execute_result"
    }
   ],
   "source": [
    "list3 = [\"1\",22,\"3\",23,\"5\"]\n",
    "try:\n",
    "    sorted_list3 = sorted(list3)\n",
    "except:\n",
    "    print(\"TypeError: unorderable types: str < int\")\n",
    "    \n",
    "alpha_list3 = str(val for val in list3)\n",
    "\n",
    "num_list3 = []\n",
    "for val in list3:\n",
    "    num_list3.append(int(val))\n",
    "print(alpha_list3)\n",
    "print(num_list3)\n",
    "sorted(alpha_list3), sorted(num_list3)"
   ]
  }
 ],
 "metadata": {
  "kernelspec": {
   "display_name": "Python 3",
   "language": "python",
   "name": "python3"
  },
  "language_info": {
   "codemirror_mode": {
    "name": "ipython",
    "version": 3
   },
   "file_extension": ".py",
   "mimetype": "text/x-python",
   "name": "python",
   "nbconvert_exporter": "python",
   "pygments_lexer": "ipython3",
   "version": "3.8.5"
  }
 },
 "nbformat": 4,
 "nbformat_minor": 4
}
