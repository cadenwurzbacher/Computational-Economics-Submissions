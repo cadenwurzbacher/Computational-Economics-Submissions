{
 "cells": [
  {
   "cell_type": "code",
   "execution_count": 1,
   "metadata": {},
   "outputs": [],
   "source": [
    "#1. Create a list of numbers 100 elements in length that counts by 3s - i.e., [3,6,9,12,...]\n",
    "generator = (3 * i for i in range(1,101))\n",
    "list1 = list(generator)\n",
    "list1"
   ]
  },
  {
   "cell_type": "code",
   "execution_count": 2,
   "metadata": {},
   "outputs": [],
   "source": [
    "#2. Using the list from question 1, create a second list whose elements are the same values converted to strings. hint: use a for loop and the function str().\n",
    "list2 = [str(i) for i in (list1)]"
   ]
  },
  {
   "cell_type": "code",
   "execution_count": 3,
   "metadata": {},
   "outputs": [
    {
     "data": {
      "text/plain": [
       "['3',\n",
       " '6',\n",
       " '9',\n",
       " '12',\n",
       " '15',\n",
       " '18',\n",
       " '21',\n",
       " '24',\n",
       " '27',\n",
       " '30',\n",
       " '33',\n",
       " '36',\n",
       " '39',\n",
       " '42',\n",
       " '45',\n",
       " '48',\n",
       " '51',\n",
       " '54',\n",
       " '57',\n",
       " '60',\n",
       " '63',\n",
       " '66',\n",
       " '69',\n",
       " '72',\n",
       " '75',\n",
       " '78',\n",
       " '81',\n",
       " '84',\n",
       " '87',\n",
       " '90',\n",
       " '93',\n",
       " '96',\n",
       " '99',\n",
       " '102',\n",
       " '105',\n",
       " '108',\n",
       " '111',\n",
       " '114',\n",
       " '117',\n",
       " '120',\n",
       " '123',\n",
       " '126',\n",
       " '129',\n",
       " '132',\n",
       " '135',\n",
       " '138',\n",
       " '141',\n",
       " '144',\n",
       " '147',\n",
       " '150',\n",
       " '153',\n",
       " '156',\n",
       " '159',\n",
       " '162',\n",
       " '165',\n",
       " '168',\n",
       " '171',\n",
       " '174',\n",
       " '177',\n",
       " '180',\n",
       " '183',\n",
       " '186',\n",
       " '189',\n",
       " '192',\n",
       " '195',\n",
       " '198',\n",
       " '201',\n",
       " '204',\n",
       " '207',\n",
       " '210',\n",
       " '213',\n",
       " '216',\n",
       " '219',\n",
       " '222',\n",
       " '225',\n",
       " '228',\n",
       " '231',\n",
       " '234',\n",
       " '237',\n",
       " '240',\n",
       " '243',\n",
       " '246',\n",
       " '249',\n",
       " '252',\n",
       " '255',\n",
       " '258',\n",
       " '261',\n",
       " '264',\n",
       " '267',\n",
       " '270',\n",
       " '273',\n",
       " '276',\n",
       " '279',\n",
       " '282',\n",
       " '285',\n",
       " '288',\n",
       " '291',\n",
       " '294',\n",
       " '297',\n",
       " '300']"
      ]
     },
     "execution_count": 3,
     "metadata": {},
     "output_type": "execute_result"
    }
   ],
   "source": [
    "list2"
   ]
  },
  {
   "cell_type": "code",
   "execution_count": 4,
   "metadata": {},
   "outputs": [
    {
     "data": {
      "text/plain": [
       "str"
      ]
     },
     "execution_count": 4,
     "metadata": {},
     "output_type": "execute_result"
    }
   ],
   "source": [
    "type(list2[1])"
   ]
  },
  {
   "cell_type": "code",
   "execution_count": 5,
   "metadata": {},
   "outputs": [
    {
     "data": {
      "text/plain": [
       "'369121518212427303336394245485154576063666972757881848790939699102105108111114117120123126129132135138141144147150153156159162165168171174177180183186189192195198201204207210213216219222225228231234237240243246249252255258261264267270273276279282285288291294297300'"
      ]
     },
     "execution_count": 5,
     "metadata": {},
     "output_type": "execute_result"
    }
   ],
   "source": [
    "#3\n",
    "concatlist2 = \"\".join(list2)\n",
    "concatlist2"
   ]
  },
  {
   "cell_type": "code",
   "execution_count": 6,
   "metadata": {
    "scrolled": true
   },
   "outputs": [],
   "source": [
    "#4\n",
    "newList = []\n",
    "for i in range(len(list1)):\n",
    "    newList.append(list1.pop())"
   ]
  },
  {
   "cell_type": "code",
   "execution_count": 7,
   "metadata": {},
   "outputs": [
    {
     "data": {
      "text/plain": [
       "[300,\n",
       " 297,\n",
       " 294,\n",
       " 291,\n",
       " 288,\n",
       " 285,\n",
       " 282,\n",
       " 279,\n",
       " 276,\n",
       " 273,\n",
       " 270,\n",
       " 267,\n",
       " 264,\n",
       " 261,\n",
       " 258,\n",
       " 255,\n",
       " 252,\n",
       " 249,\n",
       " 246,\n",
       " 243,\n",
       " 240,\n",
       " 237,\n",
       " 234,\n",
       " 231,\n",
       " 228,\n",
       " 225,\n",
       " 222,\n",
       " 219,\n",
       " 216,\n",
       " 213,\n",
       " 210,\n",
       " 207,\n",
       " 204,\n",
       " 201,\n",
       " 198,\n",
       " 195,\n",
       " 192,\n",
       " 189,\n",
       " 186,\n",
       " 183,\n",
       " 180,\n",
       " 177,\n",
       " 174,\n",
       " 171,\n",
       " 168,\n",
       " 165,\n",
       " 162,\n",
       " 159,\n",
       " 156,\n",
       " 153,\n",
       " 150,\n",
       " 147,\n",
       " 144,\n",
       " 141,\n",
       " 138,\n",
       " 135,\n",
       " 132,\n",
       " 129,\n",
       " 126,\n",
       " 123,\n",
       " 120,\n",
       " 117,\n",
       " 114,\n",
       " 111,\n",
       " 108,\n",
       " 105,\n",
       " 102,\n",
       " 99,\n",
       " 96,\n",
       " 93,\n",
       " 90,\n",
       " 87,\n",
       " 84,\n",
       " 81,\n",
       " 78,\n",
       " 75,\n",
       " 72,\n",
       " 69,\n",
       " 66,\n",
       " 63,\n",
       " 60,\n",
       " 57,\n",
       " 54,\n",
       " 51,\n",
       " 48,\n",
       " 45,\n",
       " 42,\n",
       " 39,\n",
       " 36,\n",
       " 33,\n",
       " 30,\n",
       " 27,\n",
       " 24,\n",
       " 21,\n",
       " 18,\n",
       " 15,\n",
       " 12,\n",
       " 9,\n",
       " 6,\n",
       " 3]"
      ]
     },
     "execution_count": 7,
     "metadata": {},
     "output_type": "execute_result"
    }
   ],
   "source": [
    "newList"
   ]
  },
  {
   "cell_type": "code",
   "execution_count": 8,
   "metadata": {},
   "outputs": [],
   "source": [
    "#5. Using len(), calculate the midpoint of the list from question 1. Pass this midpoint to slice the list so that the resultant copy includes only the second half of the list from question 1."
   ]
  },
  {
   "cell_type": "code",
   "execution_count": 9,
   "metadata": {},
   "outputs": [
    {
     "data": {
      "text/plain": [
       "50.0"
      ]
     },
     "execution_count": 9,
     "metadata": {},
     "output_type": "execute_result"
    }
   ],
   "source": [
    "generator = (3 * i for i in range(1,101))\n",
    "list1 = list(generator)\n",
    "\n",
    "len(list1)/2"
   ]
  },
  {
   "cell_type": "code",
   "execution_count": 10,
   "metadata": {},
   "outputs": [
    {
     "data": {
      "text/plain": [
       "[150,\n",
       " 153,\n",
       " 156,\n",
       " 159,\n",
       " 162,\n",
       " 165,\n",
       " 168,\n",
       " 171,\n",
       " 174,\n",
       " 177,\n",
       " 180,\n",
       " 183,\n",
       " 186,\n",
       " 189,\n",
       " 192,\n",
       " 195,\n",
       " 198,\n",
       " 201,\n",
       " 204,\n",
       " 207,\n",
       " 210,\n",
       " 213,\n",
       " 216,\n",
       " 219,\n",
       " 222,\n",
       " 225,\n",
       " 228,\n",
       " 231,\n",
       " 234,\n",
       " 237,\n",
       " 240,\n",
       " 243,\n",
       " 246,\n",
       " 249,\n",
       " 252,\n",
       " 255,\n",
       " 258,\n",
       " 261,\n",
       " 264,\n",
       " 267,\n",
       " 270,\n",
       " 273,\n",
       " 276,\n",
       " 279,\n",
       " 282,\n",
       " 285,\n",
       " 288,\n",
       " 291,\n",
       " 294,\n",
       " 297,\n",
       " 300]"
      ]
     },
     "execution_count": 10,
     "metadata": {},
     "output_type": "execute_result"
    }
   ],
   "source": [
    "list1[49:100]"
   ]
  },
  {
   "cell_type": "code",
   "execution_count": 11,
   "metadata": {},
   "outputs": [
    {
     "data": {
      "text/plain": [
       "'392581470369258147036925814703690150111172132193153114175135196156117178138199159210271231292252213274234295255216277237298258219270'"
      ]
     },
     "execution_count": 11,
     "metadata": {},
     "output_type": "execute_result"
    }
   ],
   "source": [
    "#6\n",
    "everyOther = concatlist2[::2]\n",
    "everyOther"
   ]
  },
  {
   "cell_type": "markdown",
   "metadata": {},
   "source": [
    "#7\n",
    "The difference between lists and tuples is that lists can be changed, but tuples can not be changed.\n",
    "This means that functions such as .remove, .append, and .pop will not work with a tuple."
   ]
  }
 ],
 "metadata": {
  "kernelspec": {
   "display_name": "Python 3",
   "language": "python",
   "name": "python3"
  },
  "language_info": {
   "codemirror_mode": {
    "name": "ipython",
    "version": 3
   },
   "file_extension": ".py",
   "mimetype": "text/x-python",
   "name": "python",
   "nbconvert_exporter": "python",
   "pygments_lexer": "ipython3",
   "version": "3.8.5"
  }
 },
 "nbformat": 4,
 "nbformat_minor": 4
}
