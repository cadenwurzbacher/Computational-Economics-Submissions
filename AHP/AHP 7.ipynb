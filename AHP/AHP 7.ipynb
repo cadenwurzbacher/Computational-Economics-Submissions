{
 "cells": [
  {
   "cell_type": "code",
   "execution_count": null,
   "id": "7b031c6f",
   "metadata": {},
   "outputs": [],
   "source": [
    "import random\n",
    "import numpy as np\n",
    "import pandas as pd"
   ]
  },
  {
   "cell_type": "code",
   "execution_count": null,
   "id": "3bfe80ec",
   "metadata": {},
   "outputs": [],
   "source": [
    "data = pd.read_csv(\"fraserDataWithRGDPPC.csv\", \n",
    "                   index_col=[0,1],\n",
    "                  parse_dates = True).dropna()\n",
    "years = np.array(sorted(list(set(data.index.get_level_values(\"Year\")))))\n",
    "years = pd.date_range(years[0], years[-2], freq = \"AS\")\n",
    "countries = sorted(list(set(data.index.get_level_values(\"ISO_Code\"))))\n",
    "index_names = list(data.index.names)\n",
    "multi_index = pd.MultiIndex.from_product([countries, \n",
    "                                          years[:-1]], \n",
    "                                         names =data.index.names)\n",
    "data = data.reindex(multi_index)\n",
    "data"
   ]
  },
  {
   "cell_type": "code",
   "execution_count": null,
   "id": "877224d7",
   "metadata": {},
   "outputs": [],
   "source": [
    "keys = list(data.keys())[1:]\n",
    "df = data.copy()\n",
    "df[\"RGDP Per Capita\"] = data[\"RGDP Per Capita\"].groupby(\"ISO_Code\").pct_change()\n",
    "df =df[keys].diff()\n",
    "df = df.rename(columns={key:key.replace(\" \", \"\\n\") for key in df}).dropna()\n",
    "df"
   ]
  },
  {
   "cell_type": "code",
   "execution_count": null,
   "id": "8e61c721",
   "metadata": {},
   "outputs": [],
   "source": [
    "df.corr"
   ]
  },
  {
   "cell_type": "code",
   "execution_count": null,
   "id": "f454321f",
   "metadata": {},
   "outputs": [],
   "source": [
    "import statsmodels.api as sm"
   ]
  },
  {
   "cell_type": "code",
   "execution_count": null,
   "id": "55ef5a66",
   "metadata": {},
   "outputs": [],
   "source": [
    "residuals = {}\n",
    "for y_var in df.keys():\n",
    "    X_vars = list(df.keys())\n",
    "    X_vars.remove(y_var)\n",
    "    X = df[X_vars]\n",
    "    X[\"Constant\"] = 1\n",
    "    y = df[[y_var]]\n",
    "    model = sm.OLS(y, X)\n",
    "    results = model.fit()\n",
    "    residuals[y_var] = results.resid\n",
    "residuals = pd.DataFrame(residuals)"
   ]
  },
  {
   "cell_type": "code",
   "execution_count": null,
   "id": "1d58b32b",
   "metadata": {},
   "outputs": [],
   "source": [
    "residuals"
   ]
  },
  {
   "cell_type": "code",
   "execution_count": null,
   "id": "ec2809e2",
   "metadata": {},
   "outputs": [],
   "source": [
    "residuals.corr()[residuals.corr().abs() < 1].mul(-1).fillna(1).round(2)"
   ]
  },
  {
   "cell_type": "code",
   "execution_count": null,
   "id": "bc6cd7e4",
   "metadata": {},
   "outputs": [],
   "source": [
    "import pingouin\n",
    "df.pcorr().round(2)"
   ]
  },
  {
   "cell_type": "code",
   "execution_count": null,
   "id": "bdc9816c",
   "metadata": {},
   "outputs": [],
   "source": [
    "from datlib.plots import *\n",
    "corr_matrix_heatmap(df.corr(), \n",
    "                    save_fig = False, \n",
    "                    pp = None)\n",
    "corr_matrix_heatmap(df.pcorr(), save_fig = False, pp = None)"
   ]
  },
  {
   "cell_type": "code",
   "execution_count": null,
   "id": "c793ff88",
   "metadata": {},
   "outputs": [],
   "source": [
    "undirected_graph = {key:[] for key in df.keys()}\n",
    "for x in undirected_graph:\n",
    "    remaining_vars = [y for y in df.keys() if y != x]\n",
    "    for y in remaining_vars:\n",
    "        undirected_graph[x].append(y)\n",
    "\n",
    "undirected_graph"
   ]
  },
  {
   "cell_type": "code",
   "execution_count": null,
   "id": "185d82f0",
   "metadata": {},
   "outputs": [],
   "source": [
    "import copy\n",
    "p_val = .01\n",
    "def build_skeleton(df, undirected_graph):    \n",
    "    def check_remaining_controls(control_vars, undirected_graph, x, y, controls_used) :\n",
    "        for c_var in control_vars:\n",
    "            c_used = copy.copy(controls_used)\n",
    "            if y in undirected_graph[x]:\n",
    "\n",
    "                c_used.append(c_var)\n",
    "                test = df.partial_corr(x = x, y = y, covar=c_used,\n",
    "                                      method = \"pearson\")\n",
    "                if test[\"p-val\"].values[0] > p_val: \n",
    "\n",
    "                    undirected_graph[x].remove(y)\n",
    "                    break\n",
    "                else:\n",
    "                    remaining_controls = copy.copy(control_vars)\n",
    "                    remaining_controls.remove(c_var)\n",
    "                    check_remaining_controls(remaining_controls, undirected_graph, x, y, c_used)\n",
    "\n",
    "    for x in df.keys():\n",
    "        ys = undirected_graph[x]\n",
    "        for y in df.keys():\n",
    "            if x != y:\n",
    "            # first check for correlation with no controls\n",
    "                test = df.partial_corr(x = x, \n",
    "                                       y = y, \n",
    "                                       covar = None,\n",
    "                                       method = \"pearson\") \n",
    "                if test[\"p-val\"].values[0] > p_val:\n",
    "                    undirected_graph[x].remove(y)\n",
    "            # if correlated check for deseparation controlling for other variables\n",
    "                else:\n",
    "                    control_vars = [z for z in df.keys() if z != y and z != x]\n",
    "                    check_remaining_controls(control_vars, undirected_graph, x, y, [])\n",
    "    return undirected_graph\n",
    "\n",
    "undirected_graph = build_skeleton(df, undirected_graph)                                   \n",
    "undirected_graph"
   ]
  },
  {
   "cell_type": "code",
   "execution_count": null,
   "id": "52fa0054",
   "metadata": {},
   "outputs": [],
   "source": [
    "import matplotlib.pyplot as plt\n",
    "import networkx as nx\n",
    "def graph_DAG(undirected_graph, df, title = \"DAG Structure\"):\n",
    "    \n",
    "    pcorr_matrix = df.pcorr()\n",
    "    graph = nx.Graph()\n",
    "    edges = []\n",
    "    edge_labels = {}\n",
    "    for key in undirected_graph:\n",
    "        for key2 in undirected_graph[key]:\n",
    "            if (key2, key) not in edges:\n",
    "                edge = (key.replace(\" \",\"\\n\"), key2[0].replace(\" \",\"\\n\"))\n",
    "                edges.append(edge)\n",
    "                edge_labels[edge] = str(round(pcorr_matrix.loc[key][key2],2))\n",
    "\n",
    "    graph.add_edges_from(edges)\n",
    "    color_map = [\"C0\" for g in graph]\n",
    "\n",
    "    fig, ax = plt.subplots(figsize = (20,12))\n",
    "    graph.nodes()\n",
    "    plt.tight_layout()\n",
    "    pos = nx.spring_layout(graph)\n",
    "    plt.title(title, fontsize = 30)\n",
    "    nx.draw_networkx(graph, pos, node_color=color_map, \n",
    "                     node_size = 1000,\n",
    "                     with_labels=True,  arrows=False,\n",
    "                     font_size = 20, alpha = 1,\n",
    "                     font_color = \"white\",\n",
    "                     ax = ax)\n",
    "    nx.draw_networkx_edge_labels(graph,pos,\n",
    "                                 edge_labels=edge_labels,\n",
    "                                 font_color='green',\n",
    "                                 font_size=20)\n",
    "    plt.axis(\"off\")\n",
    "    plt.savefig(\"g1.png\", format=\"PNG\")\n",
    "    plt.show()"
   ]
  },
  {
   "cell_type": "code",
   "execution_count": null,
   "id": "7a05e84c",
   "metadata": {},
   "outputs": [],
   "source": [
    "graph_DAG(undirected_graph, df)"
   ]
  },
  {
   "cell_type": "code",
   "execution_count": null,
   "id": "1bc586d4",
   "metadata": {},
   "outputs": [],
   "source": [
    "from pgmpy.estimators import PC\n",
    "c = PC(df)\n",
    "max_cond_vars = len(df.keys()) - 2\n",
    "\n",
    "\n",
    "model = c.estimate(return_type = \"dag\",variant= \"parallel\",#\"orig\", \"stable\"\n",
    "                   significance_level = p_val, \n",
    "                   max_cond_vars = max_cond_vars, ci_test = \"pearsonr\")\n",
    "edges = model.edges()"
   ]
  },
  {
   "cell_type": "code",
   "execution_count": null,
   "id": "e1c38e07",
   "metadata": {
    "scrolled": true
   },
   "outputs": [],
   "source": [
    "from matplotlib.patches import ArrowStyle\n",
    "\n",
    "def graph_DAG(edges, df, title = \"\"):\n",
    "    graph = nx.DiGraph()\n",
    "    graph.add_edges_from(edges)\n",
    "    color_map = [\"C0\" for g in graph]\n",
    "\n",
    "    fig, ax = plt.subplots(figsize = (20,12))\n",
    "    graph.nodes()\n",
    "    plt.tight_layout()\n",
    "    pos = nx.spring_layout(graph)#, k = 5/(len(sig_corr.keys())**.5))\n",
    "\n",
    "    plt.title(title, fontsize = 30)\n",
    "    nx.draw_networkx(graph, pos, node_color=color_map, node_size = 1200,\n",
    "                     with_labels=True,  arrows=True,\n",
    "                     font_color = \"white\",\n",
    "                     font_size = 26, alpha = 1,\n",
    "                     width = 1, edge_color = \"C1\",\n",
    "                     arrowstyle=ArrowStyle(\"Fancy, head_length=3, head_width=1.5, tail_width=.1\"), ax = ax)\n",
    "\n",
    "graph_DAG(edges, df, title = \"Directed Acyclic Graph\")\n",
    "edges"
   ]
  }
 ],
 "metadata": {
  "kernelspec": {
   "display_name": "Python 3",
   "language": "python",
   "name": "python3"
  },
  "language_info": {
   "codemirror_mode": {
    "name": "ipython",
    "version": 3
   },
   "file_extension": ".py",
   "mimetype": "text/x-python",
   "name": "python",
   "nbconvert_exporter": "python",
   "pygments_lexer": "ipython3",
   "version": "3.8.8"
  }
 },
 "nbformat": 4,
 "nbformat_minor": 5
}
